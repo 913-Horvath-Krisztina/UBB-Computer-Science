{
 "cells": [
  {
   "cell_type": "markdown",
   "id": "b8210b19",
   "metadata": {},
   "source": [
    "## A.I. Assignment 5\n",
    "\n",
    "## Learning Goals\n",
    "\n",
    "By the end of this lab, you should be able to:\n",
    "* Get more familiar with tensors in pytorch \n",
    "* Create a simple multilayer perceptron model with pytorch\n",
    "* Visualise the parameters\n",
    "\n",
    "\n",
    "### Task\n",
    "\n",
    "Build a fully connected feed forward network that adds two bits. Determine the a propper achitecture for this network (what database you use for this problem? how many layers? how many neurons on each layer? what is the activation function? what is the loss function? etc)\n",
    "\n",
    "Create at least 3 such networks and compare their performance (how accurate they are?, how farst they are trained to get at 1 accuracy?)\n",
    "\n",
    "Display for the best one the weights for each layer.\n"
   ]
  },
  {
   "cell_type": "code",
   "execution_count": 1,
   "id": "e3614e5f",
   "metadata": {},
   "outputs": [],
   "source": [
    "import torch\n",
    "import torch.nn as nn\n",
    "from collections import OrderedDict\n"
   ]
  },
  {
   "cell_type": "code",
   "execution_count": 113,
   "id": "5ee7e7d7",
   "metadata": {},
   "outputs": [],
   "source": [
    "# your code here\n",
    "#model1 = nn.Sequential(OrderedDict([\n",
    "#    ('hidden', nn.\n",
    "#]))\n",
    "model1 = nn.Sequential(OrderedDict([\n",
    "    ('hidden', nn.Linear(2, 2)),\n",
    "    ('output', nn.Linear(2, 1))\n",
    "]))\n",
    "\n",
    "model2 = nn.Sequential(OrderedDict([\n",
    "    ('hidden1', nn.Linear(2, 3)),\n",
    "    ('activation1', nn.ReLU()),\n",
    "    ('hidden2', nn.Linear(3, 2)),\n",
    "    ('activation2', nn.ReLU()),\n",
    "    ('output', nn.Linear(2, 1))\n",
    "]))\n",
    "\n",
    "model3 = nn.Sequential(OrderedDict([\n",
    "    ('hidden1', nn.Linear(2, 4)),\n",
    "    ('activation1', nn.ReLU()),\n",
    "    ('hidden2', nn.Linear(4, 3)),\n",
    "    ('activation2', nn.ReLU()),\n",
    "    ('hidden3', nn.Linear(3, 2)),\n",
    "    ('activation3', nn.ReLU()),\n",
    "    ('output', nn.Linear(2, 1)),\n",
    "    \n",
    "]))"
   ]
  },
  {
   "cell_type": "code",
   "execution_count": 114,
   "id": "665ae958",
   "metadata": {},
   "outputs": [
    {
     "name": "stdout",
     "output_type": "stream",
     "text": [
      "Sequential(\n",
      "  (hidden): Linear(in_features=2, out_features=2, bias=True)\n",
      "  (output): Linear(in_features=2, out_features=1, bias=True)\n",
      ")\n",
      "\n",
      "\n",
      "Sequential(\n",
      "  (hidden1): Linear(in_features=2, out_features=3, bias=True)\n",
      "  (activation1): ReLU()\n",
      "  (hidden2): Linear(in_features=3, out_features=2, bias=True)\n",
      "  (activation2): ReLU()\n",
      "  (output): Linear(in_features=2, out_features=1, bias=True)\n",
      ")\n",
      "\n",
      "\n",
      "Sequential(\n",
      "  (hidden1): Linear(in_features=2, out_features=4, bias=True)\n",
      "  (activation1): ReLU()\n",
      "  (hidden2): Linear(in_features=4, out_features=3, bias=True)\n",
      "  (activation2): ReLU()\n",
      "  (hidden3): Linear(in_features=3, out_features=2, bias=True)\n",
      "  (activation3): ReLU()\n",
      "  (output): Linear(in_features=2, out_features=1, bias=True)\n",
      ")\n"
     ]
    }
   ],
   "source": [
    "print(model1)\n",
    "print(\"\\n\")\n",
    "print(model2)\n",
    "print(\"\\n\")\n",
    "print(model3)"
   ]
  },
  {
   "cell_type": "code",
   "execution_count": 115,
   "id": "e26f0d3e",
   "metadata": {},
   "outputs": [
    {
     "name": "stdout",
     "output_type": "stream",
     "text": [
      "tensor([[0., 0.],\n",
      "        [0., 1.],\n",
      "        [1., 0.],\n",
      "        [1., 1.]])\n"
     ]
    }
   ],
   "source": [
    "# your code here\n",
    "#data_in = torch.tensor( ...\n",
    "\n",
    "data_in = torch.tensor([[0, 0], [0, 1], [1, 0], [1, 1]], dtype=torch.float32)\n",
    "\n",
    "print(data_in)"
   ]
  },
  {
   "cell_type": "code",
   "execution_count": 116,
   "id": "4fb16bbc",
   "metadata": {},
   "outputs": [
    {
     "name": "stdout",
     "output_type": "stream",
     "text": [
      "tensor([[0.],\n",
      "        [1.],\n",
      "        [1.],\n",
      "        [0.]])\n"
     ]
    }
   ],
   "source": [
    "# your code here\n",
    "# data_target = torch.tensor( ...\n",
    "\n",
    "data_target = torch.tensor([[0], [1], [1], [0]], dtype=torch.float32)\n",
    "\n",
    "print(data_target)"
   ]
  },
  {
   "cell_type": "code",
   "execution_count": 117,
   "id": "69d920ed",
   "metadata": {},
   "outputs": [],
   "source": [
    "# your code here\n",
    "# criterion = \n",
    "# optimizer = \n",
    "\n",
    "criterion = nn.MSELoss() #  mean squared error loss function\n",
    "\n",
    "optimizer1 = torch.optim.SGD(model1.parameters(), lr=0.1) # stochastic gradient descent optimizer\n",
    "optimizer2 = torch.optim.SGD(model2.parameters(), lr=0.1)\n",
    "optimizer3 = torch.optim.SGD(model3.parameters(), lr=0.1)"
   ]
  },
  {
   "cell_type": "code",
   "execution_count": 118,
   "id": "cde91f6f",
   "metadata": {},
   "outputs": [
    {
     "name": "stdout",
     "output_type": "stream",
     "text": [
      "Epoch 0, Loss: 0.7101\n",
      "Epoch 100, Loss: 0.6940\n",
      "Epoch 200, Loss: 0.6938\n",
      "Epoch 300, Loss: 0.6936\n",
      "Epoch 400, Loss: 0.6935\n",
      "Epoch 500, Loss: 0.6935\n",
      "Epoch 600, Loss: 0.6934\n",
      "Epoch 700, Loss: 0.6934\n",
      "Epoch 800, Loss: 0.6933\n",
      "Epoch 900, Loss: 0.6933\n",
      "Model 1 Accuracy: 0.5000\n",
      "Epoch 0, Loss: 0.6963\n",
      "Epoch 100, Loss: 0.6932\n",
      "Epoch 200, Loss: 0.6932\n",
      "Epoch 300, Loss: 0.6932\n",
      "Epoch 400, Loss: 0.6932\n",
      "Epoch 500, Loss: 0.6932\n",
      "Epoch 600, Loss: 0.6932\n",
      "Epoch 700, Loss: 0.6932\n",
      "Epoch 800, Loss: 0.6932\n",
      "Epoch 900, Loss: 0.6932\n",
      "Model 2 Accuracy: 0.5000\n",
      "Epoch 0, Loss: 0.7500\n",
      "Epoch 100, Loss: 0.6883\n",
      "Epoch 200, Loss: 0.6726\n",
      "Epoch 300, Loss: 0.5516\n",
      "Epoch 400, Loss: 0.4649\n",
      "Epoch 500, Loss: 0.2860\n",
      "Epoch 600, Loss: 0.0912\n",
      "Epoch 700, Loss: 0.0526\n",
      "Epoch 800, Loss: 0.0362\n",
      "Epoch 900, Loss: 0.0275\n",
      "Model 3 Accuracy: 1.0000\n"
     ]
    }
   ],
   "source": [
    "# your code here\n",
    "# Train the model\n",
    "\n",
    "def train_model(model, optimizer, data_in, data_target, num_epochs=1000):\n",
    "    for epoch in range(num_epochs):\n",
    "        optimizer.zero_grad() # reset gradients to zero\n",
    "        output = model(data_in) # forward pass\n",
    "        loss = nn.functional.binary_cross_entropy_with_logits(output, data_target) # compute loss\n",
    "        loss.backward() # backward pass\n",
    "        optimizer.step() # update weights\n",
    "        if epoch % 100 == 0:\n",
    "            print(f\"Epoch {epoch}, Loss: {loss.item():.4f}\")\n",
    "            \n",
    "def evaluate_model(model, data_in, data_target):\n",
    "    with torch.no_grad():\n",
    "        output = torch.sigmoid(model(data_in))\n",
    "        predictions = (output > 0.5).float()\n",
    "        accuracy = (predictions == data_target).float().mean()\n",
    "    return accuracy.item()\n"
   ]
  },
  {
   "cell_type": "code",
   "execution_count": 122,
   "id": "dff3ec1a",
   "metadata": {},
   "outputs": [
    {
     "name": "stdout",
     "output_type": "stream",
     "text": [
      "Epoch 0, Loss: 0.6933\n",
      "Epoch 100, Loss: 0.6933\n",
      "Epoch 200, Loss: 0.6932\n",
      "Epoch 300, Loss: 0.6932\n",
      "Epoch 400, Loss: 0.6932\n",
      "Epoch 500, Loss: 0.6932\n",
      "Epoch 600, Loss: 0.6932\n",
      "Epoch 700, Loss: 0.6932\n",
      "Epoch 800, Loss: 0.6932\n",
      "Epoch 900, Loss: 0.6932\n",
      "Model 1 Accuracy: 0.5000\n",
      "Epoch 0, Loss: 0.6932\n",
      "Epoch 100, Loss: 0.6931\n",
      "Epoch 200, Loss: 0.6931\n",
      "Epoch 300, Loss: 0.6931\n",
      "Epoch 400, Loss: 0.6931\n",
      "Epoch 500, Loss: 0.6931\n",
      "Epoch 600, Loss: 0.6931\n",
      "Epoch 700, Loss: 0.6931\n",
      "Epoch 800, Loss: 0.6931\n",
      "Epoch 900, Loss: 0.6931\n",
      "Model 2 Accuracy: 0.5000\n",
      "Epoch 0, Loss: 0.0221\n",
      "Epoch 100, Loss: 0.0184\n",
      "Epoch 200, Loss: 0.0158\n",
      "Epoch 300, Loss: 0.0138\n",
      "Epoch 400, Loss: 0.0122\n",
      "Epoch 500, Loss: 0.0110\n",
      "Epoch 600, Loss: 0.0100\n",
      "Epoch 700, Loss: 0.0091\n",
      "Epoch 800, Loss: 0.0084\n",
      "Epoch 900, Loss: 0.0078\n",
      "Model 3 Accuracy: 1.0000\n"
     ]
    }
   ],
   "source": [
    "# your code here\n",
    "# visualize the results\n",
    "train_model(model1, optimizer1, data_in, data_target)\n",
    "accuracy1 = evaluate_model(model1, data_in, data_target)\n",
    "print(f\"Model 1 Accuracy: {accuracy1:.4f}\")\n",
    "\n",
    "train_model(model2, optimizer2, data_in, data_target)\n",
    "accuracy2 = evaluate_model(model2, data_in, data_target)\n",
    "print(f\"Model 2 Accuracy: {accuracy2:.4f}\")\n",
    "\n",
    "train_model(model3, optimizer3, data_in, data_target)\n",
    "accuracy3 = evaluate_model(model3, data_in, data_target)\n",
    "print(f\"Model 3 Accuracy: {accuracy3:.4f}\")\n",
    "\n",
    "     "
   ]
  },
  {
   "cell_type": "code",
   "execution_count": 121,
   "id": "c1a7518b",
   "metadata": {},
   "outputs": [
    {
     "name": "stdout",
     "output_type": "stream",
     "text": [
      "hidden1.weight tensor([[-0.4033,  0.1063],\n",
      "        [ 0.9913, -0.2980],\n",
      "        [-1.3450,  1.3012],\n",
      "        [ 1.0286, -1.4084]])\n",
      "hidden1.bias tensor([-2.3471e-01,  2.5362e-04,  1.9620e-01,  3.8026e-01])\n",
      "hidden2.weight tensor([[-0.3520, -0.1886,  0.6573, -0.1808],\n",
      "        [ 0.1907,  0.8309, -0.1558,  1.6295],\n",
      "        [ 0.2275, -0.1645,  1.7192, -0.5593]])\n",
      "hidden2.bias tensor([ 0.4372, -0.0338, -0.1249])\n",
      "hidden3.weight tensor([[-0.4937,  1.7755,  0.9088],\n",
      "        [ 0.7096, -0.2384,  1.6429]])\n",
      "hidden3.bias tensor([-0.7427, -0.2244])\n",
      "output.weight tensor([[1.9712, 1.7346]])\n",
      "output.bias tensor([-3.1366])\n"
     ]
    }
   ],
   "source": [
    "# your code here\n",
    "# print model weights\n",
    "\n",
    "best_model = model3\n",
    "for name, param in best_model.named_parameters():\n",
    "    if param.requires_grad:\n",
    "        print(name, param.data)"
   ]
  }
 ],
 "metadata": {
  "kernelspec": {
   "display_name": "Python 3 (ipykernel)",
   "language": "python",
   "name": "python3"
  },
  "language_info": {
   "codemirror_mode": {
    "name": "ipython",
    "version": 3
   },
   "file_extension": ".py",
   "mimetype": "text/x-python",
   "name": "python",
   "nbconvert_exporter": "python",
   "pygments_lexer": "ipython3",
   "version": "3.9.16"
  }
 },
 "nbformat": 4,
 "nbformat_minor": 5
}
